{
 "cells": [
  {
   "cell_type": "code",
   "execution_count": 20,
   "id": "3f677326-59ba-4d64-97de-6c7058cc49ab",
   "metadata": {},
   "outputs": [],
   "source": [
    "# Import libs\n",
    "import pandas as pd\n",
    "import pyarrow as pa\n",
    "import pyarrow.parquet as pq\n",
    "from google.cloud import storage"
   ]
  },
  {
   "cell_type": "code",
   "execution_count": 21,
   "id": "86838424-88fd-48e5-84da-0a7f67d72d3d",
   "metadata": {},
   "outputs": [],
   "source": [
    "# GCS details\n",
    "gcs= pa.fs.GcsFileSystem()\n",
    "bucket_name = 'de-zoomcamp-dominik-1'\n",
    "project_id = \"dtc-de-course-412911\"\n",
    "table_name = \"fhv_trips_data\"\n",
    "root_path = f'{bucket_name}/{table_name}'"
   ]
  },
  {
   "cell_type": "code",
   "execution_count": 23,
   "id": "6c93ccb8-46b5-41a0-bc99-b946c8f3a4d6",
   "metadata": {},
   "outputs": [
    {
     "name": "stdout",
     "output_type": "stream",
     "text": [
      "1 - 2019 added go GCS!\n",
      "2 - 2019 added go GCS!\n",
      "3 - 2019 added go GCS!\n",
      "4 - 2019 added go GCS!\n",
      "5 - 2019 added go GCS!\n",
      "6 - 2019 added go GCS!\n",
      "7 - 2019 added go GCS!\n",
      "8 - 2019 added go GCS!\n"
     ]
    },
    {
     "ename": "ArrowException",
     "evalue": "Unknown error: google::cloud::Status(UNKNOWN: Retry policy exhausted UploadChunk: PerformWork() - CURL error [65]=Send failed since rewinding of the data stream failed)",
     "output_type": "error",
     "traceback": [
      "\u001b[0;31m---------------------------------------------------------------------------\u001b[0m",
      "\u001b[0;31mArrowException\u001b[0m                            Traceback (most recent call last)",
      "Cell \u001b[0;32mIn[23], line 23\u001b[0m\n\u001b[1;32m     21\u001b[0m \u001b[38;5;66;03m# Write do GCS Bucket\u001b[39;00m\n\u001b[1;32m     22\u001b[0m table \u001b[38;5;241m=\u001b[39m pa\u001b[38;5;241m.\u001b[39mTable\u001b[38;5;241m.\u001b[39mfrom_pandas(df)\n\u001b[0;32m---> 23\u001b[0m \u001b[43mpq\u001b[49m\u001b[38;5;241;43m.\u001b[39;49m\u001b[43mwrite_to_dataset\u001b[49m\u001b[43m(\u001b[49m\n\u001b[1;32m     24\u001b[0m \u001b[43m        \u001b[49m\u001b[43mtable\u001b[49m\u001b[43m,\u001b[49m\n\u001b[1;32m     25\u001b[0m \u001b[43m        \u001b[49m\u001b[43mroot_path\u001b[49m\u001b[43m \u001b[49m\u001b[38;5;241;43m=\u001b[39;49m\u001b[43m \u001b[49m\u001b[43mroot_path\u001b[49m\u001b[43m,\u001b[49m\n\u001b[1;32m     26\u001b[0m \u001b[43m        \u001b[49m\u001b[43mpartition_cols\u001b[49m\u001b[43m \u001b[49m\u001b[38;5;241;43m=\u001b[39;49m\u001b[43m \u001b[49m\u001b[43m[\u001b[49m\u001b[38;5;124;43m'\u001b[39;49m\u001b[38;5;124;43mpickup_date\u001b[39;49m\u001b[38;5;124;43m'\u001b[39;49m\u001b[43m]\u001b[49m\u001b[43m,\u001b[49m\n\u001b[1;32m     27\u001b[0m \u001b[43m        \u001b[49m\u001b[43mfilesystem\u001b[49m\u001b[38;5;241;43m=\u001b[39;49m\u001b[43mgcs\u001b[49m\u001b[43m)\u001b[49m\n\u001b[1;32m     28\u001b[0m \u001b[38;5;28mprint\u001b[39m(\u001b[38;5;124mf\u001b[39m\u001b[38;5;124m'\u001b[39m\u001b[38;5;132;01m{\u001b[39;00mmonth\u001b[38;5;132;01m}\u001b[39;00m\u001b[38;5;124m - \u001b[39m\u001b[38;5;132;01m{\u001b[39;00myear\u001b[38;5;132;01m}\u001b[39;00m\u001b[38;5;124m added go GCS!\u001b[39m\u001b[38;5;124m'\u001b[39m)\n",
      "File \u001b[0;32m/usr/local/lib/python3.11/site-packages/pyarrow/parquet/core.py:2152\u001b[0m, in \u001b[0;36mwrite_to_dataset\u001b[0;34m(table, root_path, partition_cols, filesystem, use_legacy_dataset, schema, partitioning, basename_template, use_threads, file_visitor, existing_data_behavior, **kwargs)\u001b[0m\n\u001b[1;32m   2149\u001b[0m \u001b[38;5;28;01mif\u001b[39;00m existing_data_behavior \u001b[38;5;129;01mis\u001b[39;00m \u001b[38;5;28;01mNone\u001b[39;00m:\n\u001b[1;32m   2150\u001b[0m     existing_data_behavior \u001b[38;5;241m=\u001b[39m \u001b[38;5;124m'\u001b[39m\u001b[38;5;124moverwrite_or_ignore\u001b[39m\u001b[38;5;124m'\u001b[39m\n\u001b[0;32m-> 2152\u001b[0m \u001b[43mds\u001b[49m\u001b[38;5;241;43m.\u001b[39;49m\u001b[43mwrite_dataset\u001b[49m\u001b[43m(\u001b[49m\n\u001b[1;32m   2153\u001b[0m \u001b[43m    \u001b[49m\u001b[43mtable\u001b[49m\u001b[43m,\u001b[49m\u001b[43m \u001b[49m\u001b[43mroot_path\u001b[49m\u001b[43m,\u001b[49m\u001b[43m \u001b[49m\u001b[43mfilesystem\u001b[49m\u001b[38;5;241;43m=\u001b[39;49m\u001b[43mfilesystem\u001b[49m\u001b[43m,\u001b[49m\n\u001b[1;32m   2154\u001b[0m \u001b[43m    \u001b[49m\u001b[38;5;28;43mformat\u001b[39;49m\u001b[38;5;241;43m=\u001b[39;49m\u001b[43mparquet_format\u001b[49m\u001b[43m,\u001b[49m\u001b[43m \u001b[49m\u001b[43mfile_options\u001b[49m\u001b[38;5;241;43m=\u001b[39;49m\u001b[43mwrite_options\u001b[49m\u001b[43m,\u001b[49m\u001b[43m \u001b[49m\u001b[43mschema\u001b[49m\u001b[38;5;241;43m=\u001b[39;49m\u001b[43mschema\u001b[49m\u001b[43m,\u001b[49m\n\u001b[1;32m   2155\u001b[0m \u001b[43m    \u001b[49m\u001b[43mpartitioning\u001b[49m\u001b[38;5;241;43m=\u001b[39;49m\u001b[43mpartitioning\u001b[49m\u001b[43m,\u001b[49m\u001b[43m \u001b[49m\u001b[43muse_threads\u001b[49m\u001b[38;5;241;43m=\u001b[39;49m\u001b[43muse_threads\u001b[49m\u001b[43m,\u001b[49m\n\u001b[1;32m   2156\u001b[0m \u001b[43m    \u001b[49m\u001b[43mfile_visitor\u001b[49m\u001b[38;5;241;43m=\u001b[39;49m\u001b[43mfile_visitor\u001b[49m\u001b[43m,\u001b[49m\n\u001b[1;32m   2157\u001b[0m \u001b[43m    \u001b[49m\u001b[43mbasename_template\u001b[49m\u001b[38;5;241;43m=\u001b[39;49m\u001b[43mbasename_template\u001b[49m\u001b[43m,\u001b[49m\n\u001b[1;32m   2158\u001b[0m \u001b[43m    \u001b[49m\u001b[43mexisting_data_behavior\u001b[49m\u001b[38;5;241;43m=\u001b[39;49m\u001b[43mexisting_data_behavior\u001b[49m\u001b[43m,\u001b[49m\n\u001b[1;32m   2159\u001b[0m \u001b[43m    \u001b[49m\u001b[38;5;241;43m*\u001b[39;49m\u001b[38;5;241;43m*\u001b[39;49m\u001b[43mwrite_dataset_kwargs\u001b[49m\u001b[43m)\u001b[49m\n\u001b[1;32m   2160\u001b[0m \u001b[38;5;28;01mreturn\u001b[39;00m\n",
      "File \u001b[0;32m/usr/local/lib/python3.11/site-packages/pyarrow/dataset.py:1018\u001b[0m, in \u001b[0;36mwrite_dataset\u001b[0;34m(data, base_dir, basename_template, format, partitioning, partitioning_flavor, schema, filesystem, file_options, use_threads, max_partitions, max_open_files, max_rows_per_file, min_rows_per_group, max_rows_per_group, file_visitor, existing_data_behavior, create_dir)\u001b[0m\n\u001b[1;32m   1015\u001b[0m         \u001b[38;5;28;01mraise\u001b[39;00m \u001b[38;5;167;01mValueError\u001b[39;00m(\u001b[38;5;124m\"\u001b[39m\u001b[38;5;124mCannot specify a schema when writing a Scanner\u001b[39m\u001b[38;5;124m\"\u001b[39m)\n\u001b[1;32m   1016\u001b[0m     scanner \u001b[38;5;241m=\u001b[39m data\n\u001b[0;32m-> 1018\u001b[0m \u001b[43m_filesystemdataset_write\u001b[49m\u001b[43m(\u001b[49m\n\u001b[1;32m   1019\u001b[0m \u001b[43m    \u001b[49m\u001b[43mscanner\u001b[49m\u001b[43m,\u001b[49m\u001b[43m \u001b[49m\u001b[43mbase_dir\u001b[49m\u001b[43m,\u001b[49m\u001b[43m \u001b[49m\u001b[43mbasename_template\u001b[49m\u001b[43m,\u001b[49m\u001b[43m \u001b[49m\u001b[43mfilesystem\u001b[49m\u001b[43m,\u001b[49m\u001b[43m \u001b[49m\u001b[43mpartitioning\u001b[49m\u001b[43m,\u001b[49m\n\u001b[1;32m   1020\u001b[0m \u001b[43m    \u001b[49m\u001b[43mfile_options\u001b[49m\u001b[43m,\u001b[49m\u001b[43m \u001b[49m\u001b[43mmax_partitions\u001b[49m\u001b[43m,\u001b[49m\u001b[43m \u001b[49m\u001b[43mfile_visitor\u001b[49m\u001b[43m,\u001b[49m\u001b[43m \u001b[49m\u001b[43mexisting_data_behavior\u001b[49m\u001b[43m,\u001b[49m\n\u001b[1;32m   1021\u001b[0m \u001b[43m    \u001b[49m\u001b[43mmax_open_files\u001b[49m\u001b[43m,\u001b[49m\u001b[43m \u001b[49m\u001b[43mmax_rows_per_file\u001b[49m\u001b[43m,\u001b[49m\n\u001b[1;32m   1022\u001b[0m \u001b[43m    \u001b[49m\u001b[43mmin_rows_per_group\u001b[49m\u001b[43m,\u001b[49m\u001b[43m \u001b[49m\u001b[43mmax_rows_per_group\u001b[49m\u001b[43m,\u001b[49m\u001b[43m \u001b[49m\u001b[43mcreate_dir\u001b[49m\n\u001b[1;32m   1023\u001b[0m \u001b[43m\u001b[49m\u001b[43m)\u001b[49m\n",
      "File \u001b[0;32m/usr/local/lib/python3.11/site-packages/pyarrow/_dataset.pyx:3928\u001b[0m, in \u001b[0;36mpyarrow._dataset._filesystemdataset_write\u001b[0;34m()\u001b[0m\n",
      "File \u001b[0;32m/usr/local/lib/python3.11/site-packages/pyarrow/error.pxi:91\u001b[0m, in \u001b[0;36mpyarrow.lib.check_status\u001b[0;34m()\u001b[0m\n",
      "\u001b[0;31mArrowException\u001b[0m: Unknown error: google::cloud::Status(UNKNOWN: Retry policy exhausted UploadChunk: PerformWork() - CURL error [65]=Send failed since rewinding of the data stream failed)"
     ]
    }
   ],
   "source": [
    "years =  [2019]\n",
    "months = range(1,13)\n",
    "for year in years:\n",
    "    for month in months: \n",
    "        taxi_dtypes = {\n",
    "                            'dispatching_base_num': str,\n",
    "                            'PULocationID': pd.Int64Dtype(),\n",
    "                            'DOLocationID': pd.Int64Dtype(),\n",
    "                            'SR_Flag': float,\n",
    "                            'Affiliated_base_number':str\n",
    "                        }    \n",
    "        parse_dates = ['pickup_datetime', 'dropOff_datetime']\n",
    "        url = f'https://github.com/DataTalksClub/nyc-tlc-data/releases/download/fhv/fhv_tripdata_{year}-{month:02}.csv.gz'\n",
    "        df = pd.read_csv(url, dtype=taxi_dtypes, sep=',', compression='gzip', parse_dates=parse_dates, low_memory=False)\n",
    "        \n",
    "        # Column for partitioning by pickup time\n",
    "        df['pickup_date'] = df['pickup_datetime'].dt.strftime(\"%Y%m%d\")\n",
    "        df['pickup_datetime'] = df['pickup_datetime'].dt.strftime(\"%Y-%m-%d %H:%M:%S\")\n",
    "        df['dropOff_datetime'] = df['dropOff_datetime'].dt.strftime(\"%Y-%m-%d %H:%M:%S\")\n",
    "        \n",
    "        # Write do GCS Bucket\n",
    "        table = pa.Table.from_pandas(df)\n",
    "        pq.write_to_dataset(\n",
    "                table,\n",
    "                root_path = root_path,\n",
    "                partition_cols = ['pickup_date'],\n",
    "                filesystem=gcs)\n",
    "        print(f'{month} - {year} added go GCS!')"
   ]
  }
 ],
 "metadata": {
  "kernelspec": {
   "display_name": "Python 3 (ipykernel)",
   "language": "python",
   "name": "python3"
  },
  "language_info": {
   "codemirror_mode": {
    "name": "ipython",
    "version": 3
   },
   "file_extension": ".py",
   "mimetype": "text/x-python",
   "name": "python",
   "nbconvert_exporter": "python",
   "pygments_lexer": "ipython3",
   "version": "3.11.7"
  }
 },
 "nbformat": 4,
 "nbformat_minor": 5
}
