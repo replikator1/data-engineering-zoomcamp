{
 "cells": [
  {
   "cell_type": "code",
   "execution_count": 93,
   "id": "f7891beb-8b16-49a5-b083-fed08d5e2f08",
   "metadata": {},
   "outputs": [],
   "source": [
    "import pandas as pd \n",
    "import os\n",
    "from google.cloud import storage"
   ]
  },
  {
   "cell_type": "code",
   "execution_count": 94,
   "id": "82153071-0cae-424d-a96c-ae8149345a8d",
   "metadata": {},
   "outputs": [
    {
     "name": "stdout",
     "output_type": "stream",
     "text": [
      "file 2022-01 downloaded!\n",
      "file 2022-02 downloaded!\n",
      "file 2022-03 downloaded!\n",
      "file 2022-04 downloaded!\n",
      "file 2022-05 downloaded!\n",
      "file 2022-06 downloaded!\n",
      "file 2022-07 downloaded!\n",
      "file 2022-08 downloaded!\n",
      "file 2022-09 downloaded!\n",
      "file 2022-10 downloaded!\n",
      "file 2022-11 downloaded!\n",
      "file 2022-12 downloaded!\n"
     ]
    }
   ],
   "source": [
    "# Download parquet files\n",
    "year = 2022\n",
    "months = range(1,12+1)\n",
    "for month in months:\n",
    "    url = f'https://d37ci6vzurychx.cloudfront.net/trip-data/green_tripdata_{year}-{month:02}.parquet'\n",
    "    os.system(f'wget -q -N -P green_tripdata/ {url}')\n",
    "    print(f'file {year}-{month:02} downloaded!')"
   ]
  },
  {
   "cell_type": "code",
   "execution_count": 95,
   "id": "ffb291b2-2e24-4aa0-8771-1dee2f979647",
   "metadata": {},
   "outputs": [],
   "source": [
    "# Load downloaded data to GCS bucket\n",
    "bucket_name = 'de-zoomcamp-dominik-1'"
   ]
  },
  {
   "cell_type": "code",
   "execution_count": 96,
   "id": "d77d68f6-5047-4a01-a066-e203c8a566bd",
   "metadata": {},
   "outputs": [],
   "source": [
    "# Imports the Google Cloud client library\n",
    "# Instantiates a client\n",
    "storage_client = storage.Client()"
   ]
  },
  {
   "cell_type": "code",
   "execution_count": 97,
   "id": "4d423b64-a334-433b-aa18-5318885e92b7",
   "metadata": {},
   "outputs": [],
   "source": [
    "# Load data to GCS \n",
    "def upload_blob(bucket_name, source_file_name, destination_blob_name):\n",
    "  storage_client = storage.Client()\n",
    "  bucket = storage_client.get_bucket(bucket_name)\n",
    "  blob = bucket.blob(destination_blob_name)\n",
    "  blob.upload_from_filename(source_file_name)"
   ]
  },
  {
   "cell_type": "code",
   "execution_count": 98,
   "id": "86c4d385-fd33-4ced-99e8-3efb6e34bf73",
   "metadata": {},
   "outputs": [],
   "source": [
    "for month in months: \n",
    "    upload_blob(bucket_name, \n",
    "                f'green_tripdata/green_tripdata_{year}-{month:02}.parquet',\n",
    "                f'green_tripdata/green_tripdata_{year}-{month:02}.parquet')"
   ]
  },
  {
   "cell_type": "code",
   "execution_count": 99,
   "id": "732b7f02-5152-40f8-a93b-fd1aede85a76",
   "metadata": {},
   "outputs": [
    {
     "name": "stdout",
     "output_type": "stream",
     "text": [
      "\u001b[34mgreen_tripdata\u001b[m\u001b[m homework.ipynb\n"
     ]
    }
   ],
   "source": [
    "!ls"
   ]
  },
  {
   "cell_type": "code",
   "execution_count": 92,
   "id": "35ee7a9c-b54c-4e9a-9284-417618e48ed4",
   "metadata": {},
   "outputs": [
    {
     "name": "stdout",
     "output_type": "stream",
     "text": [
      "homework.ipynb\n"
     ]
    }
   ],
   "source": [
    "!ls"
   ]
  },
  {
   "cell_type": "code",
   "execution_count": null,
   "id": "d0a21fc2-56d5-497a-b53b-598a0b8a6b5b",
   "metadata": {},
   "outputs": [],
   "source": [
    "# Homework\n",
    "-- Create external table from GCS bucket\n",
    "CREATE OR REPLACE EXTERNAL TABLE ny_taxi.green_external\n",
    "  OPTIONS (\n",
    "  format = 'PARQUET',\n",
    "  uris = ['gs://de-zoomcamp-dominik-1/green_tripdata/*']);\n",
    "\n",
    "-- Create a non partition, non clustered table from external table\n",
    "CREATE OR REPLACE TABLE ny_taxi.green_non_partitioned AS\n",
    "SELECT * FROM `ny_taxi.green_external`;\n",
    "\n",
    "-- Question 1\n",
    "SELECT COUNT(*) FROM `ny_taxi.green_external`;\n",
    "-- 840402\n",
    "\n",
    "-- Question 2 \n",
    "SELECT COUNT(DISTINCT PULocationID) FROM `ny_taxi.green_external`;\n",
    "-- 0 \n",
    "\n",
    "SELECT COUNT(DISTINCT PULocationID) FROM `ny_taxi.green_non_partitioned`;\n",
    "-- 6.41 \n",
    "\n",
    "-- Question 3 \n",
    "SELECT COUNT(*) FROM `ny_taxi.green_non_partitioned`\n",
    "WHERE fare_amount = 0\n",
    "--1622\n",
    "\n",
    "-- Question 4 \n",
    "CREATE OR REPLACE TABLE ny_taxi.green_partitioned_clustered\n",
    "PARTITION BY DATE(lpep_pickup_datetime)\n",
    "CLUSTER BY PUlocationID\n",
    "AS\n",
    "SELECT * FROM `ny_taxi.green_external`;\n",
    "-- Partition by lpep_pickup_datetime Cluster on PUlocationID\n",
    "\n",
    "-- Question 5\n",
    "-- format YYYY-MM-DD\n",
    "SELECT DISTINCT PULocationID\n",
    "FROM `ny_taxi.green_non_partitioned`\n",
    "WHERE lpep_pickup_datetime >= \"2022-06-01\" and lpep_pickup_datetime <= \"2022-06-30\"\n",
    "-- 12.82\n",
    "\n",
    "SELECT DISTINCT PULocationID\n",
    "FROM `ny_taxi.green_partitioned_clustered`\n",
    "WHERE lpep_pickup_datetime >= \"2022-06-01\" and lpep_pickup_datetime <= \"2022-06-30\"\n",
    "-- 1.12\n",
    "\n",
    "-- Question 6\n",
    "-- GCP Bucket\n",
    "\n",
    "-- Question 7\n",
    "-- False\n"
   ]
  }
 ],
 "metadata": {
  "kernelspec": {
   "display_name": "Python 3 (ipykernel)",
   "language": "python",
   "name": "python3"
  },
  "language_info": {
   "codemirror_mode": {
    "name": "ipython",
    "version": 3
   },
   "file_extension": ".py",
   "mimetype": "text/x-python",
   "name": "python",
   "nbconvert_exporter": "python",
   "pygments_lexer": "ipython3",
   "version": "3.11.7"
  }
 },
 "nbformat": 4,
 "nbformat_minor": 5
}
