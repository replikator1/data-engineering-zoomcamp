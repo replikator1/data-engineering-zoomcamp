{
 "cells": [
  {
   "cell_type": "code",
   "execution_count": 2,
   "id": "f7891beb-8b16-49a5-b083-fed08d5e2f08",
   "metadata": {},
   "outputs": [],
   "source": [
    "import pandas as pd \n",
    "import os\n",
    "from google.cloud import storage"
   ]
  },
  {
   "cell_type": "code",
   "execution_count": 3,
   "id": "82153071-0cae-424d-a96c-ae8149345a8d",
   "metadata": {},
   "outputs": [
    {
     "name": "stdout",
     "output_type": "stream",
     "text": [
      "green2019-01 downloaded!\n",
      "green2019-02 downloaded!\n",
      "green2019-03 downloaded!\n",
      "green2019-04 downloaded!\n",
      "green2019-05 downloaded!\n",
      "green2019-06 downloaded!\n",
      "green2019-07 downloaded!\n",
      "green2019-08 downloaded!\n",
      "green2019-09 downloaded!\n",
      "green2019-10 downloaded!\n",
      "green2019-11 downloaded!\n",
      "green2019-12 downloaded!\n",
      "green2020-01 downloaded!\n",
      "green2020-02 downloaded!\n",
      "green2020-03 downloaded!\n",
      "green2020-04 downloaded!\n",
      "green2020-05 downloaded!\n",
      "green2020-06 downloaded!\n",
      "green2020-07 downloaded!\n",
      "green2020-08 downloaded!\n",
      "green2020-09 downloaded!\n",
      "green2020-10 downloaded!\n",
      "green2020-11 downloaded!\n",
      "green2020-12 downloaded!\n",
      "yellow2019-01 downloaded!\n",
      "yellow2019-02 downloaded!\n",
      "yellow2019-03 downloaded!\n",
      "yellow2019-04 downloaded!\n",
      "yellow2019-05 downloaded!\n",
      "yellow2019-06 downloaded!\n",
      "yellow2019-07 downloaded!\n",
      "yellow2019-08 downloaded!\n",
      "yellow2019-09 downloaded!\n",
      "yellow2019-10 downloaded!\n",
      "yellow2019-11 downloaded!\n",
      "yellow2019-12 downloaded!\n",
      "yellow2020-01 downloaded!\n",
      "yellow2020-02 downloaded!\n",
      "yellow2020-03 downloaded!\n",
      "yellow2020-04 downloaded!\n",
      "yellow2020-05 downloaded!\n",
      "yellow2020-06 downloaded!\n",
      "yellow2020-07 downloaded!\n",
      "yellow2020-08 downloaded!\n",
      "yellow2020-09 downloaded!\n",
      "yellow2020-10 downloaded!\n",
      "yellow2020-11 downloaded!\n",
      "yellow2020-12 downloaded!\n"
     ]
    }
   ],
   "source": [
    "# Download green / yellow parquet files\n",
    "colors = ['green', 'yellow']\n",
    "years = [2019, 2020]\n",
    "months = range(1,12+1)\n",
    "for color in colors:\n",
    "    for year in years:\n",
    "        for month in months:\n",
    "            url = f'https://d37ci6vzurychx.cloudfront.net/trip-data/{color}_tripdata_{year}-{month:02}.parquet'\n",
    "            os.system(f'wget -q -N -P {color}_tripdata/ {url}')\n",
    "            print(f'{color}{year}-{month:02} downloaded!')"
   ]
  },
  {
   "cell_type": "code",
   "execution_count": 4,
   "id": "b39a60ca-bfce-4857-bda8-da07c7b6d7d9",
   "metadata": {},
   "outputs": [
    {
     "name": "stdout",
     "output_type": "stream",
     "text": [
      "fhv 2019-01 downloaded!\n",
      "fhv 2019-02 downloaded!\n",
      "fhv 2019-03 downloaded!\n",
      "fhv 2019-04 downloaded!\n",
      "fhv 2019-05 downloaded!\n",
      "fhv 2019-06 downloaded!\n",
      "fhv 2019-07 downloaded!\n",
      "fhv 2019-08 downloaded!\n",
      "fhv 2019-09 downloaded!\n",
      "fhv 2019-10 downloaded!\n",
      "fhv 2019-11 downloaded!\n",
      "fhv 2019-12 downloaded!\n"
     ]
    }
   ],
   "source": [
    "# Download 2019 fhv\n",
    "year = 2019 \n",
    "for month in months:\n",
    "    url = f'https://d37ci6vzurychx.cloudfront.net/trip-data/fhv_tripdata_2019-{month:02}.parquet'\n",
    "    os.system(f'wget -q -N -P fhv_tripdata/ {url}')\n",
    "    print(f'fhv {year}-{month:02} downloaded!')"
   ]
  },
  {
   "cell_type": "code",
   "execution_count": 5,
   "id": "ffb291b2-2e24-4aa0-8771-1dee2f979647",
   "metadata": {},
   "outputs": [],
   "source": [
    "# Load downloaded data to GCS bucket\n",
    "bucket_name = 'de-zoomcamp-dominik-1'"
   ]
  },
  {
   "cell_type": "code",
   "execution_count": 6,
   "id": "d77d68f6-5047-4a01-a066-e203c8a566bd",
   "metadata": {},
   "outputs": [],
   "source": [
    "# Imports the Google Cloud client library\n",
    "# Instantiates a client\n",
    "storage_client = storage.Client()"
   ]
  },
  {
   "cell_type": "code",
   "execution_count": 7,
   "id": "4d423b64-a334-433b-aa18-5318885e92b7",
   "metadata": {},
   "outputs": [],
   "source": [
    "# Template to load data to GCS \n",
    "def upload_blob(bucket_name, source_file_name, destination_blob_name):\n",
    "  storage_client = storage.Client()\n",
    "  bucket = storage_client.get_bucket(bucket_name)\n",
    "  blob = bucket.blob(destination_blob_name)\n",
    "  blob.upload_from_filename(source_file_name)"
   ]
  },
  {
   "cell_type": "code",
   "execution_count": 98,
   "id": "86c4d385-fd33-4ced-99e8-3efb6e34bf73",
   "metadata": {},
   "outputs": [],
   "source": [
    "# Load yellow and green taxitrips to bucket\n",
    "for color in colors:\n",
    "    for year in years:\n",
    "        for month in months: \n",
    "            upload_blob(bucket_name, \n",
    "                        f'{color}_tripdata/{color}_tripdata_{year}-{month:02}.parquet',\n",
    "                        f'week_4/{color}_tripdata/{color}_tripdata_{year}-{month:02}.parquet')"
   ]
  },
  {
   "cell_type": "code",
   "execution_count": null,
   "id": "b6001a2f-2a12-401e-979e-63c4279cce1e",
   "metadata": {},
   "outputs": [],
   "source": [
    "# Load fhv trips to bucket\n",
    "for month in months:\n",
    "    upload_blob(bucket_name,\n",
    "                        f'fhv_tripdata/fhv_tripdata_{year}-{month:02}.parquet',\n",
    "                        f'week_4/fhv_tripdata/fhv_tripdata_{year}-{month:02}.parquet'\n",
    "    print(f'{month} done')"
   ]
  },
  {
   "cell_type": "code",
   "execution_count": 99,
   "id": "732b7f02-5152-40f8-a93b-fd1aede85a76",
   "metadata": {},
   "outputs": [
    {
     "name": "stdout",
     "output_type": "stream",
     "text": [
      "\u001b[34mgreen_tripdata\u001b[m\u001b[m homework.ipynb\n"
     ]
    }
   ],
   "source": [
    "!ls"
   ]
  },
  {
   "cell_type": "code",
   "execution_count": 92,
   "id": "35ee7a9c-b54c-4e9a-9284-417618e48ed4",
   "metadata": {},
   "outputs": [
    {
     "name": "stdout",
     "output_type": "stream",
     "text": [
      "homework.ipynb\n"
     ]
    }
   ],
   "source": [
    "!ls"
   ]
  },
  {
   "cell_type": "code",
   "execution_count": null,
   "id": "d0a21fc2-56d5-497a-b53b-598a0b8a6b5b",
   "metadata": {},
   "outputs": [],
   "source": [
    "# Homework\n",
    "-- Create external table from GCS bucket\n",
    "CREATE OR REPLACE EXTERNAL TABLE ny_taxi.green_external\n",
    "  OPTIONS (\n",
    "  format = 'PARQUET',\n",
    "  uris = ['gs://de-zoomcamp-dominik-1/green_tripdata/*']);\n",
    "\n",
    "-- Create a non partition, non clustered table from external table\n",
    "CREATE OR REPLACE TABLE ny_taxi.green_non_partitioned AS\n",
    "SELECT * FROM `ny_taxi.green_external`;\n",
    "\n",
    "-- Question 1\n",
    "SELECT COUNT(*) FROM `ny_taxi.green_external`;\n",
    "-- 840402\n",
    "\n",
    "-- Question 2 \n",
    "SELECT COUNT(DISTINCT PULocationID) FROM `ny_taxi.green_external`;\n",
    "-- 0 \n",
    "\n",
    "SELECT COUNT(DISTINCT PULocationID) FROM `ny_taxi.green_non_partitioned`;\n",
    "-- 6.41 \n",
    "\n",
    "-- Question 3 \n",
    "SELECT COUNT(*) FROM `ny_taxi.green_non_partitioned`\n",
    "WHERE fare_amount = 0\n",
    "--1622\n",
    "\n",
    "-- Question 4 \n",
    "CREATE OR REPLACE TABLE ny_taxi.green_partitioned_clustered\n",
    "PARTITION BY DATE(lpep_pickup_datetime)\n",
    "CLUSTER BY PUlocationID\n",
    "AS\n",
    "SELECT * FROM `ny_taxi.green_external`;\n",
    "-- Partition by lpep_pickup_datetime Cluster on PUlocationID\n",
    "\n",
    "-- Question 5\n",
    "-- format YYYY-MM-DD\n",
    "SELECT DISTINCT PULocationID\n",
    "FROM `ny_taxi.green_non_partitioned`\n",
    "WHERE lpep_pickup_datetime >= \"2022-06-01\" and lpep_pickup_datetime <= \"2022-06-30\"\n",
    "-- 12.82\n",
    "\n",
    "SELECT DISTINCT PULocationID\n",
    "FROM `ny_taxi.green_partitioned_clustered`\n",
    "WHERE lpep_pickup_datetime >= \"2022-06-01\" and lpep_pickup_datetime <= \"2022-06-30\"\n",
    "-- 1.12\n",
    "\n",
    "-- Question 6\n",
    "-- GCP Bucket\n",
    "\n",
    "-- Question 7\n",
    "-- False\n"
   ]
  }
 ],
 "metadata": {
  "kernelspec": {
   "display_name": "Python 3 (ipykernel)",
   "language": "python",
   "name": "python3"
  },
  "language_info": {
   "codemirror_mode": {
    "name": "ipython",
    "version": 3
   },
   "file_extension": ".py",
   "mimetype": "text/x-python",
   "name": "python",
   "nbconvert_exporter": "python",
   "pygments_lexer": "ipython3",
   "version": "3.11.7"
  }
 },
 "nbformat": 4,
 "nbformat_minor": 5
}
