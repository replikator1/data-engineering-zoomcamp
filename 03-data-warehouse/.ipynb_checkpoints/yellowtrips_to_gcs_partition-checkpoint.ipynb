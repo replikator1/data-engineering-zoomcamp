{
 "cells": [
  {
   "cell_type": "code",
   "execution_count": null,
   "id": "3f677326-59ba-4d64-97de-6c7058cc49ab",
   "metadata": {},
   "outputs": [],
   "source": [
    "# Import libs\n",
    "import pandas as pd\n",
    "import pyarrow as pa\n",
    "import pyarrow.parquet as pq\n",
    "from google.cloud import storage"
   ]
  },
  {
   "cell_type": "code",
   "execution_count": null,
   "id": "86838424-88fd-48e5-84da-0a7f67d72d3d",
   "metadata": {},
   "outputs": [],
   "source": [
    "# GCS details\n",
    "gcs= pa.fs.GcsFileSystem()\n",
    "bucket_name = 'de-zoomcamp-dominik-1'\n",
    "project_id = \"dtc-de-course-412911\"\n",
    "table_name = \"yellow_trips_data\"\n",
    "root_path = f'{bucket_name}/{table_name}'"
   ]
  },
  {
   "cell_type": "code",
   "execution_count": null,
   "id": "6c93ccb8-46b5-41a0-bc99-b946c8f3a4d6",
   "metadata": {},
   "outputs": [
    {
     "name": "stdout",
     "output_type": "stream",
     "text": [
      "1 - 2019 added go GCS!\n",
      "2 - 2019 added go GCS!\n",
      "3 - 2019 added go GCS!\n",
      "4 - 2019 added go GCS!\n"
     ]
    }
   ],
   "source": [
    "years = [2019]\n",
    "months = range(1,12+1)\n",
    "for year in years:\n",
    "    for month in months: \n",
    "        taxi_dtypes = {\n",
    "                            'VendorID': pd.Int64Dtype(),\n",
    "                            'passenger_count': pd.Int64Dtype(),\n",
    "                            'trip_distance': float,\n",
    "                            'RatecodeID': pd.Int64Dtype(),\n",
    "                            'store_and_fwd_flag': str,\n",
    "                            'PULocationID': pd.Int64Dtype(),\n",
    "                            'DOLocationID': pd.Int64Dtype(),\n",
    "                            'payment_type': pd.Int64Dtype(),\n",
    "                            'fare_amount': float,\n",
    "                            'extra': float,\n",
    "                            'mta_tax': float,\n",
    "                            'tip_amount': float,\n",
    "                            'tolls_amount': float,\n",
    "                            'improvement_surcharge': float,\n",
    "                            'total_amount': float,\n",
    "                            'congestion_surcharge': float\n",
    "                        }    \n",
    "        parse_dates = ['tpep_pickup_datetime', 'tpep_dropoff_datetime']\n",
    "        df = pd.DataFrame(taxi_dtypes, index=[])\n",
    "        url = f'https://github.com/DataTalksClub/nyc-tlc-data/releases/download/yellow/yellow_tripdata_{year}-{month:02}.csv.gz'\n",
    "        df = pd.read_csv(url, dtype=taxi_dtypes, sep=',', compression='gzip', parse_dates=parse_dates, low_memory=False)\n",
    "\n",
    "        # Column for partitioning by pickup time\n",
    "        df['tpep_pickup_date'] = df['tpep_pickup_datetime'].dt.strftime('%Y%m%d')\n",
    "        df['tpep_pickup_datetime'] = df['tpep_pickup_datetime'].dt.strftime(\"%Y-%m-%d %H:%M:%S\")\n",
    "        df['tpep_dropoff_datetime'] = df['tpep_dropoff_datetime'].dt.strftime(\"%Y-%m-%d %H:%M:%S\")\n",
    "        # Write do GCS Bucket\n",
    "        table = pa.Table.from_pandas(df)\n",
    "        pq.write_to_dataset(\n",
    "                table,\n",
    "                root_path = root_path,\n",
    "                partition_cols = ['tpep_pickup_date'],\n",
    "                filesystem=gcs)\n",
    "        print(f'{month} - {year} added go GCS!')"
   ]
  },
  {
   "cell_type": "code",
   "execution_count": 2,
   "id": "c9e16534-fdce-4ea9-97c3-a99e268b455b",
   "metadata": {},
   "outputs": [],
   "source": [
    "url = 'https://github.com/DataTalksClub/nyc-tlc-data/releases/download/yellow/yellow_tripdata_2020-04.csv.gz'"
   ]
  }
 ],
 "metadata": {
  "kernelspec": {
   "display_name": "Python 3 (ipykernel)",
   "language": "python",
   "name": "python3"
  },
  "language_info": {
   "codemirror_mode": {
    "name": "ipython",
    "version": 3
   },
   "file_extension": ".py",
   "mimetype": "text/x-python",
   "name": "python",
   "nbconvert_exporter": "python",
   "pygments_lexer": "ipython3",
   "version": "3.11.7"
  }
 },
 "nbformat": 4,
 "nbformat_minor": 5
}
